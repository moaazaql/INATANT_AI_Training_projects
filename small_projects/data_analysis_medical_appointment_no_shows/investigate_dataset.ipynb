{
 "cells": [
  {
   "cell_type": "code",
   "execution_count": 1,
   "id": "83e6e5a8-6864-42fd-97e5-76b3e2b9d53f",
   "metadata": {},
   "outputs": [],
   "source": [
    "import pandas as pd\n",
    "import numpy as np\n",
    "import matplotlib.pyplot as plt\n",
    "import seaborn as sns\n",
    "%matplotlib inline"
   ]
  },
  {
   "cell_type": "code",
   "execution_count": 2,
   "id": "b4bf9d83",
   "metadata": {},
   "outputs": [],
   "source": [
    "df=pd.read_csv('KaggleV2-May-2016.csv')"
   ]
  },
  {
   "cell_type": "markdown",
   "id": "9c458677",
   "metadata": {},
   "source": [
    "## Data Wrangling"
   ]
  },
  {
   "cell_type": "code",
   "execution_count": 3,
   "id": "12fd0ad4",
   "metadata": {},
   "outputs": [],
   "source": [
    "pd.set_option('display.max_rows',None)"
   ]
  },
  {
   "cell_type": "code",
   "execution_count": 4,
   "id": "89650021",
   "metadata": {},
   "outputs": [
    {
     "data": {
      "text/html": [
       "<div>\n",
       "<style scoped>\n",
       "    .dataframe tbody tr th:only-of-type {\n",
       "        vertical-align: middle;\n",
       "    }\n",
       "\n",
       "    .dataframe tbody tr th {\n",
       "        vertical-align: top;\n",
       "    }\n",
       "\n",
       "    .dataframe thead th {\n",
       "        text-align: right;\n",
       "    }\n",
       "</style>\n",
       "<table border=\"1\" class=\"dataframe\">\n",
       "  <thead>\n",
       "    <tr style=\"text-align: right;\">\n",
       "      <th></th>\n",
       "      <th>PatientId</th>\n",
       "      <th>AppointmentID</th>\n",
       "      <th>Gender</th>\n",
       "      <th>ScheduledDay</th>\n",
       "      <th>AppointmentDay</th>\n",
       "      <th>Age</th>\n",
       "      <th>Neighbourhood</th>\n",
       "      <th>Scholarship</th>\n",
       "      <th>Hipertension</th>\n",
       "      <th>Diabetes</th>\n",
       "      <th>Alcoholism</th>\n",
       "      <th>Handcap</th>\n",
       "      <th>SMS_received</th>\n",
       "      <th>No-show</th>\n",
       "    </tr>\n",
       "  </thead>\n",
       "  <tbody>\n",
       "    <tr>\n",
       "      <th>0</th>\n",
       "      <td>2.987250e+13</td>\n",
       "      <td>5642903</td>\n",
       "      <td>F</td>\n",
       "      <td>2016-04-29T18:38:08Z</td>\n",
       "      <td>2016-04-29T00:00:00Z</td>\n",
       "      <td>62</td>\n",
       "      <td>JARDIM DA PENHA</td>\n",
       "      <td>0</td>\n",
       "      <td>1</td>\n",
       "      <td>0</td>\n",
       "      <td>0</td>\n",
       "      <td>0</td>\n",
       "      <td>0</td>\n",
       "      <td>No</td>\n",
       "    </tr>\n",
       "    <tr>\n",
       "      <th>1</th>\n",
       "      <td>5.589978e+14</td>\n",
       "      <td>5642503</td>\n",
       "      <td>M</td>\n",
       "      <td>2016-04-29T16:08:27Z</td>\n",
       "      <td>2016-04-29T00:00:00Z</td>\n",
       "      <td>56</td>\n",
       "      <td>JARDIM DA PENHA</td>\n",
       "      <td>0</td>\n",
       "      <td>0</td>\n",
       "      <td>0</td>\n",
       "      <td>0</td>\n",
       "      <td>0</td>\n",
       "      <td>0</td>\n",
       "      <td>No</td>\n",
       "    </tr>\n",
       "    <tr>\n",
       "      <th>2</th>\n",
       "      <td>4.262962e+12</td>\n",
       "      <td>5642549</td>\n",
       "      <td>F</td>\n",
       "      <td>2016-04-29T16:19:04Z</td>\n",
       "      <td>2016-04-29T00:00:00Z</td>\n",
       "      <td>62</td>\n",
       "      <td>MATA DA PRAIA</td>\n",
       "      <td>0</td>\n",
       "      <td>0</td>\n",
       "      <td>0</td>\n",
       "      <td>0</td>\n",
       "      <td>0</td>\n",
       "      <td>0</td>\n",
       "      <td>No</td>\n",
       "    </tr>\n",
       "    <tr>\n",
       "      <th>3</th>\n",
       "      <td>8.679512e+11</td>\n",
       "      <td>5642828</td>\n",
       "      <td>F</td>\n",
       "      <td>2016-04-29T17:29:31Z</td>\n",
       "      <td>2016-04-29T00:00:00Z</td>\n",
       "      <td>8</td>\n",
       "      <td>PONTAL DE CAMBURI</td>\n",
       "      <td>0</td>\n",
       "      <td>0</td>\n",
       "      <td>0</td>\n",
       "      <td>0</td>\n",
       "      <td>0</td>\n",
       "      <td>0</td>\n",
       "      <td>No</td>\n",
       "    </tr>\n",
       "    <tr>\n",
       "      <th>4</th>\n",
       "      <td>8.841186e+12</td>\n",
       "      <td>5642494</td>\n",
       "      <td>F</td>\n",
       "      <td>2016-04-29T16:07:23Z</td>\n",
       "      <td>2016-04-29T00:00:00Z</td>\n",
       "      <td>56</td>\n",
       "      <td>JARDIM DA PENHA</td>\n",
       "      <td>0</td>\n",
       "      <td>1</td>\n",
       "      <td>1</td>\n",
       "      <td>0</td>\n",
       "      <td>0</td>\n",
       "      <td>0</td>\n",
       "      <td>No</td>\n",
       "    </tr>\n",
       "  </tbody>\n",
       "</table>\n",
       "</div>"
      ],
      "text/plain": [
       "      PatientId  AppointmentID Gender          ScheduledDay  \\\n",
       "0  2.987250e+13        5642903      F  2016-04-29T18:38:08Z   \n",
       "1  5.589978e+14        5642503      M  2016-04-29T16:08:27Z   \n",
       "2  4.262962e+12        5642549      F  2016-04-29T16:19:04Z   \n",
       "3  8.679512e+11        5642828      F  2016-04-29T17:29:31Z   \n",
       "4  8.841186e+12        5642494      F  2016-04-29T16:07:23Z   \n",
       "\n",
       "         AppointmentDay  Age      Neighbourhood  Scholarship  Hipertension  \\\n",
       "0  2016-04-29T00:00:00Z   62    JARDIM DA PENHA            0             1   \n",
       "1  2016-04-29T00:00:00Z   56    JARDIM DA PENHA            0             0   \n",
       "2  2016-04-29T00:00:00Z   62      MATA DA PRAIA            0             0   \n",
       "3  2016-04-29T00:00:00Z    8  PONTAL DE CAMBURI            0             0   \n",
       "4  2016-04-29T00:00:00Z   56    JARDIM DA PENHA            0             1   \n",
       "\n",
       "   Diabetes  Alcoholism  Handcap  SMS_received No-show  \n",
       "0         0           0        0             0      No  \n",
       "1         0           0        0             0      No  \n",
       "2         0           0        0             0      No  \n",
       "3         0           0        0             0      No  \n",
       "4         1           0        0             0      No  "
      ]
     },
     "execution_count": 4,
     "metadata": {},
     "output_type": "execute_result"
    }
   ],
   "source": [
    "df.head()"
   ]
  },
  {
   "cell_type": "code",
   "execution_count": 5,
   "id": "35d1dc4a",
   "metadata": {},
   "outputs": [
    {
     "data": {
      "text/html": [
       "<div>\n",
       "<style scoped>\n",
       "    .dataframe tbody tr th:only-of-type {\n",
       "        vertical-align: middle;\n",
       "    }\n",
       "\n",
       "    .dataframe tbody tr th {\n",
       "        vertical-align: top;\n",
       "    }\n",
       "\n",
       "    .dataframe thead th {\n",
       "        text-align: right;\n",
       "    }\n",
       "</style>\n",
       "<table border=\"1\" class=\"dataframe\">\n",
       "  <thead>\n",
       "    <tr style=\"text-align: right;\">\n",
       "      <th></th>\n",
       "      <th>PatientId</th>\n",
       "      <th>AppointmentID</th>\n",
       "      <th>Gender</th>\n",
       "      <th>ScheduledDay</th>\n",
       "      <th>AppointmentDay</th>\n",
       "      <th>Age</th>\n",
       "      <th>Neighbourhood</th>\n",
       "      <th>Scholarship</th>\n",
       "      <th>Hipertension</th>\n",
       "      <th>Diabetes</th>\n",
       "      <th>Alcoholism</th>\n",
       "      <th>Handcap</th>\n",
       "      <th>SMS_received</th>\n",
       "      <th>No-show</th>\n",
       "    </tr>\n",
       "  </thead>\n",
       "  <tbody>\n",
       "    <tr>\n",
       "      <th>0</th>\n",
       "      <td>float64</td>\n",
       "      <td>int64</td>\n",
       "      <td>object</td>\n",
       "      <td>object</td>\n",
       "      <td>object</td>\n",
       "      <td>int64</td>\n",
       "      <td>object</td>\n",
       "      <td>int64</td>\n",
       "      <td>int64</td>\n",
       "      <td>int64</td>\n",
       "      <td>int64</td>\n",
       "      <td>int64</td>\n",
       "      <td>int64</td>\n",
       "      <td>object</td>\n",
       "    </tr>\n",
       "  </tbody>\n",
       "</table>\n",
       "</div>"
      ],
      "text/plain": [
       "  PatientId AppointmentID  Gender ScheduledDay AppointmentDay    Age  \\\n",
       "0   float64         int64  object       object         object  int64   \n",
       "\n",
       "  Neighbourhood Scholarship Hipertension Diabetes Alcoholism Handcap  \\\n",
       "0        object       int64        int64    int64      int64   int64   \n",
       "\n",
       "  SMS_received No-show  \n",
       "0        int64  object  "
      ]
     },
     "execution_count": 5,
     "metadata": {},
     "output_type": "execute_result"
    }
   ],
   "source": [
    "df.dtypes.to_frame().T"
   ]
  },
  {
   "cell_type": "code",
   "execution_count": 6,
   "id": "48962349",
   "metadata": {},
   "outputs": [],
   "source": [
    "unique_columns=[ 'Gender','Scholarship', 'Hipertension','Diabetes', 'Alcoholism', 'Handcap', 'SMS_received', 'No-show']"
   ]
  },
  {
   "cell_type": "code",
   "execution_count": 7,
   "id": "96420da2",
   "metadata": {},
   "outputs": [
    {
     "name": "stdout",
     "output_type": "stream",
     "text": [
      "['F' 'M']\n",
      "[0 1]\n",
      "[1 0]\n",
      "[0 1]\n",
      "[0 1]\n",
      "[0 1 2 3 4]\n",
      "[0 1]\n",
      "['No' 'Yes']\n"
     ]
    }
   ],
   "source": [
    "for i in unique_columns:\n",
    "    print(df[i].unique())"
   ]
  },
  {
   "cell_type": "code",
   "execution_count": 8,
   "id": "a62e1338",
   "metadata": {},
   "outputs": [
    {
     "name": "stdout",
     "output_type": "stream",
     "text": [
      "<class 'pandas.core.frame.DataFrame'>\n",
      "RangeIndex: 110527 entries, 0 to 110526\n",
      "Data columns (total 14 columns):\n",
      " #   Column          Non-Null Count   Dtype  \n",
      "---  ------          --------------   -----  \n",
      " 0   PatientId       110527 non-null  float64\n",
      " 1   AppointmentID   110527 non-null  int64  \n",
      " 2   Gender          110527 non-null  object \n",
      " 3   ScheduledDay    110527 non-null  object \n",
      " 4   AppointmentDay  110527 non-null  object \n",
      " 5   Age             110527 non-null  int64  \n",
      " 6   Neighbourhood   110527 non-null  object \n",
      " 7   Scholarship     110527 non-null  int64  \n",
      " 8   Hipertension    110527 non-null  int64  \n",
      " 9   Diabetes        110527 non-null  int64  \n",
      " 10  Alcoholism      110527 non-null  int64  \n",
      " 11  Handcap         110527 non-null  int64  \n",
      " 12  SMS_received    110527 non-null  int64  \n",
      " 13  No-show         110527 non-null  object \n",
      "dtypes: float64(1), int64(8), object(5)\n",
      "memory usage: 11.8+ MB\n"
     ]
    }
   ],
   "source": [
    "df.info()"
   ]
  },
  {
   "cell_type": "code",
   "execution_count": 9,
   "id": "8710fbfa",
   "metadata": {},
   "outputs": [],
   "source": [
    "def convert(x):\n",
    "    if x>0:\n",
    "        return 1\n",
    "    else:\n",
    "        return 0\n",
    "df['Handcap']=df['Handcap'].apply(convert)    "
   ]
  },
  {
   "cell_type": "code",
   "execution_count": 10,
   "id": "ebc23ad2",
   "metadata": {},
   "outputs": [
    {
     "data": {
      "text/plain": [
       "0    108286\n",
       "1      2241\n",
       "Name: Handcap, dtype: int64"
      ]
     },
     "execution_count": 10,
     "metadata": {},
     "output_type": "execute_result"
    }
   ],
   "source": [
    "df['Handcap'].value_counts()"
   ]
  },
  {
   "cell_type": "code",
   "execution_count": 11,
   "id": "eb179034",
   "metadata": {},
   "outputs": [],
   "source": [
    "df['AppointmentDay']=pd.to_datetime(df['AppointmentDay'], format = '%Y-%m-%d %H:%M:%S')\n",
    "df['ScheduledDay']=pd.to_datetime(df['ScheduledDay'], format = '%Y-%m-%d %H:%M:%S')"
   ]
  },
  {
   "cell_type": "code",
   "execution_count": 12,
   "id": "42e3e0da",
   "metadata": {},
   "outputs": [],
   "source": [
    "df['dayswaited']=(df['AppointmentDay'].dt.date-df['ScheduledDay'].dt.date).dt.days"
   ]
  },
  {
   "cell_type": "code",
   "execution_count": 13,
   "id": "a316e094",
   "metadata": {},
   "outputs": [],
   "source": [
    "df['Hipertension']=df['Hipertension'].astype(bool)\n",
    "df['Diabetes']=df['Diabetes'].astype(bool)\n",
    "df['Alcoholism']=df['Alcoholism'].astype(bool)\n",
    "df['Handcap']=df['Handcap'].astype(bool)\n",
    "df['Scholarship']=df['Scholarship'].astype(bool)\n",
    "df['SMS_received']=df['SMS_received'].astype(bool)"
   ]
  },
  {
   "cell_type": "code",
   "execution_count": 14,
   "id": "d6d6ebde",
   "metadata": {},
   "outputs": [
    {
     "data": {
      "text/plain": [
       "PatientId                     float64\n",
       "AppointmentID                   int64\n",
       "Gender                         object\n",
       "ScheduledDay      datetime64[ns, UTC]\n",
       "AppointmentDay    datetime64[ns, UTC]\n",
       "Age                             int64\n",
       "Neighbourhood                  object\n",
       "Scholarship                      bool\n",
       "Hipertension                     bool\n",
       "Diabetes                         bool\n",
       "Alcoholism                       bool\n",
       "Handcap                          bool\n",
       "SMS_received                     bool\n",
       "No-show                        object\n",
       "dayswaited                      int64\n",
       "dtype: object"
      ]
     },
     "execution_count": 14,
     "metadata": {},
     "output_type": "execute_result"
    }
   ],
   "source": [
    "df.dtypes"
   ]
  },
  {
   "cell_type": "markdown",
   "id": "854d3fd0",
   "metadata": {},
   "source": [
    "## Data Cleaning"
   ]
  },
  {
   "cell_type": "code",
   "execution_count": 15,
   "id": "e2994470",
   "metadata": {},
   "outputs": [
    {
     "name": "stdout",
     "output_type": "stream",
     "text": [
      "<class 'pandas.core.frame.DataFrame'>\n",
      "RangeIndex: 110527 entries, 0 to 110526\n",
      "Data columns (total 15 columns):\n",
      " #   Column          Non-Null Count   Dtype              \n",
      "---  ------          --------------   -----              \n",
      " 0   PatientId       110527 non-null  float64            \n",
      " 1   AppointmentID   110527 non-null  int64              \n",
      " 2   Gender          110527 non-null  object             \n",
      " 3   ScheduledDay    110527 non-null  datetime64[ns, UTC]\n",
      " 4   AppointmentDay  110527 non-null  datetime64[ns, UTC]\n",
      " 5   Age             110527 non-null  int64              \n",
      " 6   Neighbourhood   110527 non-null  object             \n",
      " 7   Scholarship     110527 non-null  bool               \n",
      " 8   Hipertension    110527 non-null  bool               \n",
      " 9   Diabetes        110527 non-null  bool               \n",
      " 10  Alcoholism      110527 non-null  bool               \n",
      " 11  Handcap         110527 non-null  bool               \n",
      " 12  SMS_received    110527 non-null  bool               \n",
      " 13  No-show         110527 non-null  object             \n",
      " 14  dayswaited      110527 non-null  int64              \n",
      "dtypes: bool(6), datetime64[ns, UTC](2), float64(1), int64(3), object(3)\n",
      "memory usage: 8.2+ MB\n"
     ]
    }
   ],
   "source": [
    "df.info()"
   ]
  },
  {
   "cell_type": "markdown",
   "id": "5835a221",
   "metadata": {},
   "source": [
    "Null Values doesn't exist"
   ]
  },
  {
   "cell_type": "code",
   "execution_count": 16,
   "id": "38a8a8eb",
   "metadata": {},
   "outputs": [
    {
     "data": {
      "text/plain": [
       "0"
      ]
     },
     "execution_count": 16,
     "metadata": {},
     "output_type": "execute_result"
    }
   ],
   "source": [
    "df.duplicated().sum()"
   ]
  },
  {
   "cell_type": "markdown",
   "id": "bdf08d88",
   "metadata": {},
   "source": [
    " Will cheak AppointmentDay and Patient Id for duplicates"
   ]
  },
  {
   "cell_type": "code",
   "execution_count": 17,
   "id": "5e541b6e",
   "metadata": {},
   "outputs": [
    {
     "data": {
      "text/plain": [
       "8719"
      ]
     },
     "execution_count": 17,
     "metadata": {},
     "output_type": "execute_result"
    }
   ],
   "source": [
    "df[['PatientId','AppointmentDay']].duplicated().sum()"
   ]
  },
  {
   "cell_type": "markdown",
   "id": "dad224d8",
   "metadata": {},
   "source": [
    "8719 duplicates in the data \n",
    "\n",
    "will drop them"
   ]
  },
  {
   "cell_type": "code",
   "execution_count": 18,
   "id": "7bbd561f",
   "metadata": {},
   "outputs": [],
   "source": [
    "df.drop_duplicates(subset=['PatientId','AppointmentDay'],inplace=True)"
   ]
  },
  {
   "cell_type": "code",
   "execution_count": 19,
   "id": "ec45f8e4",
   "metadata": {},
   "outputs": [
    {
     "name": "stdout",
     "output_type": "stream",
     "text": [
      "<class 'pandas.core.frame.DataFrame'>\n",
      "Int64Index: 101808 entries, 0 to 110526\n",
      "Data columns (total 15 columns):\n",
      " #   Column          Non-Null Count   Dtype              \n",
      "---  ------          --------------   -----              \n",
      " 0   PatientId       101808 non-null  float64            \n",
      " 1   AppointmentID   101808 non-null  int64              \n",
      " 2   Gender          101808 non-null  object             \n",
      " 3   ScheduledDay    101808 non-null  datetime64[ns, UTC]\n",
      " 4   AppointmentDay  101808 non-null  datetime64[ns, UTC]\n",
      " 5   Age             101808 non-null  int64              \n",
      " 6   Neighbourhood   101808 non-null  object             \n",
      " 7   Scholarship     101808 non-null  bool               \n",
      " 8   Hipertension    101808 non-null  bool               \n",
      " 9   Diabetes        101808 non-null  bool               \n",
      " 10  Alcoholism      101808 non-null  bool               \n",
      " 11  Handcap         101808 non-null  bool               \n",
      " 12  SMS_received    101808 non-null  bool               \n",
      " 13  No-show         101808 non-null  object             \n",
      " 14  dayswaited      101808 non-null  int64              \n",
      "dtypes: bool(6), datetime64[ns, UTC](2), float64(1), int64(3), object(3)\n",
      "memory usage: 8.3+ MB\n"
     ]
    }
   ],
   "source": [
    "df.info()"
   ]
  },
  {
   "cell_type": "code",
   "execution_count": 20,
   "id": "293efda3",
   "metadata": {},
   "outputs": [],
   "source": [
    "drop_columns=['PatientId','AppointmentID','ScheduledDay','AppointmentDay']\n",
    "df.drop(columns=drop_columns,axis=1,inplace=True)"
   ]
  },
  {
   "cell_type": "code",
   "execution_count": 21,
   "id": "62eb3d19",
   "metadata": {},
   "outputs": [
    {
     "data": {
      "text/html": [
       "<div>\n",
       "<style scoped>\n",
       "    .dataframe tbody tr th:only-of-type {\n",
       "        vertical-align: middle;\n",
       "    }\n",
       "\n",
       "    .dataframe tbody tr th {\n",
       "        vertical-align: top;\n",
       "    }\n",
       "\n",
       "    .dataframe thead th {\n",
       "        text-align: right;\n",
       "    }\n",
       "</style>\n",
       "<table border=\"1\" class=\"dataframe\">\n",
       "  <thead>\n",
       "    <tr style=\"text-align: right;\">\n",
       "      <th></th>\n",
       "      <th>Gender</th>\n",
       "      <th>Age</th>\n",
       "      <th>Neighbourhood</th>\n",
       "      <th>Scholarship</th>\n",
       "      <th>Hipertension</th>\n",
       "      <th>Diabetes</th>\n",
       "      <th>Alcoholism</th>\n",
       "      <th>Handcap</th>\n",
       "      <th>SMS_received</th>\n",
       "      <th>No-show</th>\n",
       "      <th>dayswaited</th>\n",
       "    </tr>\n",
       "  </thead>\n",
       "  <tbody>\n",
       "    <tr>\n",
       "      <th>0</th>\n",
       "      <td>F</td>\n",
       "      <td>62</td>\n",
       "      <td>JARDIM DA PENHA</td>\n",
       "      <td>False</td>\n",
       "      <td>True</td>\n",
       "      <td>False</td>\n",
       "      <td>False</td>\n",
       "      <td>False</td>\n",
       "      <td>False</td>\n",
       "      <td>No</td>\n",
       "      <td>0</td>\n",
       "    </tr>\n",
       "    <tr>\n",
       "      <th>1</th>\n",
       "      <td>M</td>\n",
       "      <td>56</td>\n",
       "      <td>JARDIM DA PENHA</td>\n",
       "      <td>False</td>\n",
       "      <td>False</td>\n",
       "      <td>False</td>\n",
       "      <td>False</td>\n",
       "      <td>False</td>\n",
       "      <td>False</td>\n",
       "      <td>No</td>\n",
       "      <td>0</td>\n",
       "    </tr>\n",
       "  </tbody>\n",
       "</table>\n",
       "</div>"
      ],
      "text/plain": [
       "  Gender  Age    Neighbourhood  Scholarship  Hipertension  Diabetes  \\\n",
       "0      F   62  JARDIM DA PENHA        False          True     False   \n",
       "1      M   56  JARDIM DA PENHA        False         False     False   \n",
       "\n",
       "   Alcoholism  Handcap  SMS_received No-show  dayswaited  \n",
       "0       False    False         False      No           0  \n",
       "1       False    False         False      No           0  "
      ]
     },
     "execution_count": 21,
     "metadata": {},
     "output_type": "execute_result"
    }
   ],
   "source": [
    "df.head(2)"
   ]
  },
  {
   "cell_type": "markdown",
   "id": "89fd0db4",
   "metadata": {},
   "source": [
    "replace no_show no to 1,and yes to 0"
   ]
  },
  {
   "cell_type": "code",
   "execution_count": 22,
   "id": "957aea9c",
   "metadata": {},
   "outputs": [
    {
     "data": {
      "text/plain": [
       "Index(['Gender', 'Age', 'Neighbourhood', 'Scholarship', 'Hipertension',\n",
       "       'Diabetes', 'Alcoholism', 'Handcap', 'SMS_received', 'showed',\n",
       "       'dayswaited'],\n",
       "      dtype='object')"
      ]
     },
     "execution_count": 22,
     "metadata": {},
     "output_type": "execute_result"
    }
   ],
   "source": [
    "df.rename(columns={'No-show':'showed'},inplace=True)\n",
    "df.columns"
   ]
  },
  {
   "cell_type": "code",
   "execution_count": 23,
   "id": "35a6d4d9",
   "metadata": {},
   "outputs": [],
   "source": [
    "df.showed=df.showed.replace('Yes',0)\n",
    "df.showed=df.showed.replace('No',1)"
   ]
  },
  {
   "cell_type": "code",
   "execution_count": 24,
   "id": "f987b6ea",
   "metadata": {},
   "outputs": [
    {
     "data": {
      "text/html": [
       "<div>\n",
       "<style scoped>\n",
       "    .dataframe tbody tr th:only-of-type {\n",
       "        vertical-align: middle;\n",
       "    }\n",
       "\n",
       "    .dataframe tbody tr th {\n",
       "        vertical-align: top;\n",
       "    }\n",
       "\n",
       "    .dataframe thead th {\n",
       "        text-align: right;\n",
       "    }\n",
       "</style>\n",
       "<table border=\"1\" class=\"dataframe\">\n",
       "  <thead>\n",
       "    <tr style=\"text-align: right;\">\n",
       "      <th></th>\n",
       "      <th>Gender</th>\n",
       "      <th>Age</th>\n",
       "      <th>Neighbourhood</th>\n",
       "      <th>Scholarship</th>\n",
       "      <th>Hipertension</th>\n",
       "      <th>Diabetes</th>\n",
       "      <th>Alcoholism</th>\n",
       "      <th>Handcap</th>\n",
       "      <th>SMS_received</th>\n",
       "      <th>showed</th>\n",
       "      <th>dayswaited</th>\n",
       "    </tr>\n",
       "  </thead>\n",
       "  <tbody>\n",
       "    <tr>\n",
       "      <th>0</th>\n",
       "      <td>F</td>\n",
       "      <td>62</td>\n",
       "      <td>JARDIM DA PENHA</td>\n",
       "      <td>False</td>\n",
       "      <td>True</td>\n",
       "      <td>False</td>\n",
       "      <td>False</td>\n",
       "      <td>False</td>\n",
       "      <td>False</td>\n",
       "      <td>1</td>\n",
       "      <td>0</td>\n",
       "    </tr>\n",
       "    <tr>\n",
       "      <th>1</th>\n",
       "      <td>M</td>\n",
       "      <td>56</td>\n",
       "      <td>JARDIM DA PENHA</td>\n",
       "      <td>False</td>\n",
       "      <td>False</td>\n",
       "      <td>False</td>\n",
       "      <td>False</td>\n",
       "      <td>False</td>\n",
       "      <td>False</td>\n",
       "      <td>1</td>\n",
       "      <td>0</td>\n",
       "    </tr>\n",
       "    <tr>\n",
       "      <th>2</th>\n",
       "      <td>F</td>\n",
       "      <td>62</td>\n",
       "      <td>MATA DA PRAIA</td>\n",
       "      <td>False</td>\n",
       "      <td>False</td>\n",
       "      <td>False</td>\n",
       "      <td>False</td>\n",
       "      <td>False</td>\n",
       "      <td>False</td>\n",
       "      <td>1</td>\n",
       "      <td>0</td>\n",
       "    </tr>\n",
       "    <tr>\n",
       "      <th>3</th>\n",
       "      <td>F</td>\n",
       "      <td>8</td>\n",
       "      <td>PONTAL DE CAMBURI</td>\n",
       "      <td>False</td>\n",
       "      <td>False</td>\n",
       "      <td>False</td>\n",
       "      <td>False</td>\n",
       "      <td>False</td>\n",
       "      <td>False</td>\n",
       "      <td>1</td>\n",
       "      <td>0</td>\n",
       "    </tr>\n",
       "    <tr>\n",
       "      <th>4</th>\n",
       "      <td>F</td>\n",
       "      <td>56</td>\n",
       "      <td>JARDIM DA PENHA</td>\n",
       "      <td>False</td>\n",
       "      <td>True</td>\n",
       "      <td>True</td>\n",
       "      <td>False</td>\n",
       "      <td>False</td>\n",
       "      <td>False</td>\n",
       "      <td>1</td>\n",
       "      <td>0</td>\n",
       "    </tr>\n",
       "  </tbody>\n",
       "</table>\n",
       "</div>"
      ],
      "text/plain": [
       "  Gender  Age      Neighbourhood  Scholarship  Hipertension  Diabetes  \\\n",
       "0      F   62    JARDIM DA PENHA        False          True     False   \n",
       "1      M   56    JARDIM DA PENHA        False         False     False   \n",
       "2      F   62      MATA DA PRAIA        False         False     False   \n",
       "3      F    8  PONTAL DE CAMBURI        False         False     False   \n",
       "4      F   56    JARDIM DA PENHA        False          True      True   \n",
       "\n",
       "   Alcoholism  Handcap  SMS_received  showed  dayswaited  \n",
       "0       False    False         False       1           0  \n",
       "1       False    False         False       1           0  \n",
       "2       False    False         False       1           0  \n",
       "3       False    False         False       1           0  \n",
       "4       False    False         False       1           0  "
      ]
     },
     "execution_count": 24,
     "metadata": {},
     "output_type": "execute_result"
    }
   ],
   "source": [
    "df.head()"
   ]
  },
  {
   "cell_type": "code",
   "execution_count": 25,
   "id": "6571dd17",
   "metadata": {},
   "outputs": [
    {
     "data": {
      "text/plain": [
       " 0      3352\n",
       " 1      2161\n",
       " 52     1569\n",
       " 53     1537\n",
       " 2      1533\n",
       " 56     1522\n",
       " 50     1496\n",
       " 49     1491\n",
       " 57     1471\n",
       " 54     1457\n",
       " 51     1450\n",
       " 38     1441\n",
       " 59     1438\n",
       " 19     1437\n",
       " 36     1427\n",
       " 39     1420\n",
       " 3      1416\n",
       " 34     1415\n",
       " 5      1405\n",
       " 6      1403\n",
       " 33     1394\n",
       " 30     1392\n",
       " 58     1390\n",
       " 37     1381\n",
       " 17     1374\n",
       " 32     1366\n",
       " 21     1353\n",
       " 18     1351\n",
       " 20     1333\n",
       " 8      1328\n",
       " 55     1326\n",
       " 28     1323\n",
       " 60     1322\n",
       " 31     1315\n",
       " 44     1309\n",
       " 47     1300\n",
       " 16     1297\n",
       " 7      1297\n",
       " 46     1294\n",
       " 29     1289\n",
       " 45     1283\n",
       " 48     1271\n",
       " 22     1267\n",
       " 61     1264\n",
       " 27     1263\n",
       " 40     1262\n",
       " 23     1244\n",
       " 9      1242\n",
       " 62     1239\n",
       " 41     1237\n",
       " 35     1236\n",
       " 25     1234\n",
       " 64     1226\n",
       " 4      1220\n",
       " 43     1216\n",
       " 63     1212\n",
       " 26     1184\n",
       " 42     1166\n",
       " 10     1164\n",
       " 24     1153\n",
       " 66     1108\n",
       " 15     1103\n",
       " 11     1101\n",
       " 65     1029\n",
       " 13     1012\n",
       " 12     1001\n",
       " 14     1000\n",
       " 68      951\n",
       " 67      912\n",
       " 69      769\n",
       " 70      688\n",
       " 73      679\n",
       " 71      654\n",
       " 72      579\n",
       " 74      571\n",
       " 76      526\n",
       " 75      512\n",
       " 77      499\n",
       " 78      495\n",
       " 80      468\n",
       " 81      396\n",
       " 79      359\n",
       " 82      355\n",
       " 84      293\n",
       " 83      265\n",
       " 85      256\n",
       " 86      240\n",
       " 87      176\n",
       " 89      153\n",
       " 88      119\n",
       " 90      101\n",
       " 92       74\n",
       " 91       61\n",
       " 93       47\n",
       " 94       30\n",
       " 95       24\n",
       " 96       17\n",
       " 97       11\n",
       " 98        5\n",
       " 115       4\n",
       " 100       3\n",
       " 102       2\n",
       " 99        1\n",
       "-1         1\n",
       "Name: Age, dtype: int64"
      ]
     },
     "execution_count": 25,
     "metadata": {},
     "output_type": "execute_result"
    }
   ],
   "source": [
    "df.Age.value_counts()"
   ]
  },
  {
   "cell_type": "code",
   "execution_count": 26,
   "id": "fd8aec5c",
   "metadata": {},
   "outputs": [],
   "source": [
    "nul=df.query('Age == -1').index\n",
    "df.drop(nul,inplace=True)"
   ]
  },
  {
   "cell_type": "code",
   "execution_count": 27,
   "id": "f1b0da2b",
   "metadata": {},
   "outputs": [
    {
     "data": {
      "text/html": [
       "<div>\n",
       "<style scoped>\n",
       "    .dataframe tbody tr th:only-of-type {\n",
       "        vertical-align: middle;\n",
       "    }\n",
       "\n",
       "    .dataframe tbody tr th {\n",
       "        vertical-align: top;\n",
       "    }\n",
       "\n",
       "    .dataframe thead th {\n",
       "        text-align: right;\n",
       "    }\n",
       "</style>\n",
       "<table border=\"1\" class=\"dataframe\">\n",
       "  <thead>\n",
       "    <tr style=\"text-align: right;\">\n",
       "      <th></th>\n",
       "      <th>Gender</th>\n",
       "      <th>Age</th>\n",
       "      <th>Neighbourhood</th>\n",
       "      <th>Scholarship</th>\n",
       "      <th>Hipertension</th>\n",
       "      <th>Diabetes</th>\n",
       "      <th>Alcoholism</th>\n",
       "      <th>Handcap</th>\n",
       "      <th>SMS_received</th>\n",
       "      <th>showed</th>\n",
       "      <th>dayswaited</th>\n",
       "    </tr>\n",
       "  </thead>\n",
       "  <tbody>\n",
       "  </tbody>\n",
       "</table>\n",
       "</div>"
      ],
      "text/plain": [
       "Empty DataFrame\n",
       "Columns: [Gender, Age, Neighbourhood, Scholarship, Hipertension, Diabetes, Alcoholism, Handcap, SMS_received, showed, dayswaited]\n",
       "Index: []"
      ]
     },
     "execution_count": 27,
     "metadata": {},
     "output_type": "execute_result"
    }
   ],
   "source": [
    "df.query('Age == -1')"
   ]
  },
  {
   "cell_type": "code",
   "execution_count": 28,
   "id": "76f79176",
   "metadata": {},
   "outputs": [
    {
     "data": {
      "text/html": [
       "<div>\n",
       "<style scoped>\n",
       "    .dataframe tbody tr th:only-of-type {\n",
       "        vertical-align: middle;\n",
       "    }\n",
       "\n",
       "    .dataframe tbody tr th {\n",
       "        vertical-align: top;\n",
       "    }\n",
       "\n",
       "    .dataframe thead th {\n",
       "        text-align: right;\n",
       "    }\n",
       "</style>\n",
       "<table border=\"1\" class=\"dataframe\">\n",
       "  <thead>\n",
       "    <tr style=\"text-align: right;\">\n",
       "      <th></th>\n",
       "      <th>Age</th>\n",
       "      <th>showed</th>\n",
       "      <th>dayswaited</th>\n",
       "    </tr>\n",
       "  </thead>\n",
       "  <tbody>\n",
       "    <tr>\n",
       "      <th>count</th>\n",
       "      <td>101807.000000</td>\n",
       "      <td>101807.000000</td>\n",
       "      <td>101807.000000</td>\n",
       "    </tr>\n",
       "    <tr>\n",
       "      <th>mean</th>\n",
       "      <td>37.059289</td>\n",
       "      <td>0.799385</td>\n",
       "      <td>10.284813</td>\n",
       "    </tr>\n",
       "    <tr>\n",
       "      <th>std</th>\n",
       "      <td>23.213906</td>\n",
       "      <td>0.400462</td>\n",
       "      <td>15.305771</td>\n",
       "    </tr>\n",
       "    <tr>\n",
       "      <th>min</th>\n",
       "      <td>0.000000</td>\n",
       "      <td>0.000000</td>\n",
       "      <td>-1.000000</td>\n",
       "    </tr>\n",
       "    <tr>\n",
       "      <th>25%</th>\n",
       "      <td>18.000000</td>\n",
       "      <td>1.000000</td>\n",
       "      <td>0.000000</td>\n",
       "    </tr>\n",
       "    <tr>\n",
       "      <th>50%</th>\n",
       "      <td>37.000000</td>\n",
       "      <td>1.000000</td>\n",
       "      <td>4.000000</td>\n",
       "    </tr>\n",
       "    <tr>\n",
       "      <th>75%</th>\n",
       "      <td>56.000000</td>\n",
       "      <td>1.000000</td>\n",
       "      <td>15.000000</td>\n",
       "    </tr>\n",
       "    <tr>\n",
       "      <th>max</th>\n",
       "      <td>115.000000</td>\n",
       "      <td>1.000000</td>\n",
       "      <td>179.000000</td>\n",
       "    </tr>\n",
       "  </tbody>\n",
       "</table>\n",
       "</div>"
      ],
      "text/plain": [
       "                 Age         showed     dayswaited\n",
       "count  101807.000000  101807.000000  101807.000000\n",
       "mean       37.059289       0.799385      10.284813\n",
       "std        23.213906       0.400462      15.305771\n",
       "min         0.000000       0.000000      -1.000000\n",
       "25%        18.000000       1.000000       0.000000\n",
       "50%        37.000000       1.000000       4.000000\n",
       "75%        56.000000       1.000000      15.000000\n",
       "max       115.000000       1.000000     179.000000"
      ]
     },
     "execution_count": 28,
     "metadata": {},
     "output_type": "execute_result"
    }
   ],
   "source": [
    "df.describe()"
   ]
  },
  {
   "cell_type": "markdown",
   "id": "89b715a8",
   "metadata": {},
   "source": [
    "note : ther is a nigitve value in dayswaited\n",
    "\n"
   ]
  },
  {
   "cell_type": "code",
   "execution_count": 31,
   "id": "8d107d20",
   "metadata": {},
   "outputs": [],
   "source": [
    "nal2=df.query('dayswaited <0')\n",
    "df.drop(nal2.index,inplace=True)"
   ]
  },
  {
   "cell_type": "code",
   "execution_count": 32,
   "id": "45121eda",
   "metadata": {},
   "outputs": [
    {
     "data": {
      "text/html": [
       "<div>\n",
       "<style scoped>\n",
       "    .dataframe tbody tr th:only-of-type {\n",
       "        vertical-align: middle;\n",
       "    }\n",
       "\n",
       "    .dataframe tbody tr th {\n",
       "        vertical-align: top;\n",
       "    }\n",
       "\n",
       "    .dataframe thead th {\n",
       "        text-align: right;\n",
       "    }\n",
       "</style>\n",
       "<table border=\"1\" class=\"dataframe\">\n",
       "  <thead>\n",
       "    <tr style=\"text-align: right;\">\n",
       "      <th></th>\n",
       "      <th>Age</th>\n",
       "      <th>showed</th>\n",
       "      <th>dayswaited</th>\n",
       "    </tr>\n",
       "  </thead>\n",
       "  <tbody>\n",
       "    <tr>\n",
       "      <th>count</th>\n",
       "      <td>101803.000000</td>\n",
       "      <td>101803.000000</td>\n",
       "      <td>101803.000000</td>\n",
       "    </tr>\n",
       "    <tr>\n",
       "      <th>mean</th>\n",
       "      <td>37.059900</td>\n",
       "      <td>0.799417</td>\n",
       "      <td>10.285257</td>\n",
       "    </tr>\n",
       "    <tr>\n",
       "      <th>std</th>\n",
       "      <td>23.214054</td>\n",
       "      <td>0.400439</td>\n",
       "      <td>15.305908</td>\n",
       "    </tr>\n",
       "    <tr>\n",
       "      <th>min</th>\n",
       "      <td>0.000000</td>\n",
       "      <td>0.000000</td>\n",
       "      <td>0.000000</td>\n",
       "    </tr>\n",
       "    <tr>\n",
       "      <th>25%</th>\n",
       "      <td>18.000000</td>\n",
       "      <td>1.000000</td>\n",
       "      <td>0.000000</td>\n",
       "    </tr>\n",
       "    <tr>\n",
       "      <th>50%</th>\n",
       "      <td>37.000000</td>\n",
       "      <td>1.000000</td>\n",
       "      <td>4.000000</td>\n",
       "    </tr>\n",
       "    <tr>\n",
       "      <th>75%</th>\n",
       "      <td>56.000000</td>\n",
       "      <td>1.000000</td>\n",
       "      <td>15.000000</td>\n",
       "    </tr>\n",
       "    <tr>\n",
       "      <th>max</th>\n",
       "      <td>115.000000</td>\n",
       "      <td>1.000000</td>\n",
       "      <td>179.000000</td>\n",
       "    </tr>\n",
       "  </tbody>\n",
       "</table>\n",
       "</div>"
      ],
      "text/plain": [
       "                 Age         showed     dayswaited\n",
       "count  101803.000000  101803.000000  101803.000000\n",
       "mean       37.059900       0.799417      10.285257\n",
       "std        23.214054       0.400439      15.305908\n",
       "min         0.000000       0.000000       0.000000\n",
       "25%        18.000000       1.000000       0.000000\n",
       "50%        37.000000       1.000000       4.000000\n",
       "75%        56.000000       1.000000      15.000000\n",
       "max       115.000000       1.000000     179.000000"
      ]
     },
     "execution_count": 32,
     "metadata": {},
     "output_type": "execute_result"
    }
   ],
   "source": [
    "df.describe()"
   ]
  },
  {
   "cell_type": "code",
   "execution_count": 33,
   "id": "5aaef137",
   "metadata": {},
   "outputs": [
    {
     "data": {
      "text/plain": [
       "58014     100\n",
       "63912     100\n",
       "68127     100\n",
       "76284     100\n",
       "79270     100\n",
       "90372     100\n",
       "92084     100\n",
       "97666     100\n",
       "108506    100\n",
       "Name: Age, dtype: int64"
      ]
     },
     "execution_count": 33,
     "metadata": {},
     "output_type": "execute_result"
    },
    {
     "data": {
      "image/png": "[encoded data removed]",
      "text/plain": [
       "<Figure size 640x480 with 1 Axes>"
      ]
     },
     "metadata": {},
     "output_type": "display_data"
    }
   ],
   "source": [
    "df.Age.plot(kind='box')\n",
    "\n",
    "df.loc[df['Age']>100,'Age']=100\n",
    "df.loc[df['Age']==100,'Age']"
   ]
  },
  {
   "cell_type": "code",
   "execution_count": 34,
   "id": "44fe756c",
   "metadata": {},
   "outputs": [
    {
     "data": {
      "text/plain": [
       "<Axes: >"
      ]
     },
     "execution_count": 34,
     "metadata": {},
     "output_type": "execute_result"
    },
    {
     "data": {
      "image/png": "[encoded data removed]",
      "text/plain": [
       "<Figure size 640x480 with 1 Axes>"
      ]
     },
     "metadata": {},
     "output_type": "display_data"
    }
   ],
   "source": [
    "df.Age.plot(kind='box')"
   ]
  },
  {
   "cell_type": "markdown",
   "id": "a4077232",
   "metadata": {},
   "source": [
    "## Exploratory Data Analysis\n",
    "\n",
    "Question 1 (Is there  a relationship betwwen the type of dieases has and showed,and which type of dises has a greater impact?)"
   ]
  },
  {
   "cell_type": "code",
   "execution_count": 35,
   "id": "6581a78c",
   "metadata": {},
   "outputs": [
    {
     "data": {
      "image/png": "[encoded data removed]",
      "text/plain": [
       "<Figure size 2000x500 with 4 Axes>"
      ]
     },
     "metadata": {},
     "output_type": "display_data"
    }
   ],
   "source": [
    "fig,ax=plt.subplots(nrows=1,ncols=4,figsize=(20,5))\n",
    "sns.countplot(x='showed' ,data=df,ax=ax[0],hue='Hipertension')\n",
    "sns.countplot(x='showed' ,data=df,ax=ax[1],hue='Diabetes')\n",
    "sns.countplot(x='showed' ,data=df,ax=ax[2],hue='Alcoholism')\n",
    "sns.countplot(x='showed' ,data=df,ax=ax[3],hue='Handcap')\n",
    "plt.tight_layout()"
   ]
  },
  {
   "cell_type": "markdown",
   "id": "cc20d27b",
   "metadata": {},
   "source": [
    "it is seem that Hipertension is higher then other disease"
   ]
  },
  {
   "cell_type": "code",
   "execution_count": 37,
   "id": "c9ea3a9c",
   "metadata": {},
   "outputs": [
    {
     "data": {
      "text/plain": [
       "82.90073310877749"
      ]
     },
     "execution_count": 37,
     "metadata": {},
     "output_type": "execute_result"
    }
   ],
   "source": [
    "x=df.groupby('showed')['Hipertension'].value_counts()\n",
    "h=(x[1][True]/df['Hipertension'].value_counts()[1])*100\n",
    "h"
   ]
  },
  {
   "cell_type": "markdown",
   "id": "7c7d8561",
   "metadata": {},
   "source": [
    "82.9% of the people who had Hipertension attended "
   ]
  },
  {
   "cell_type": "code",
   "execution_count": 38,
   "id": "fc9412e8",
   "metadata": {},
   "outputs": [
    {
     "data": {
      "text/plain": [
       "82.26854358419058"
      ]
     },
     "execution_count": 38,
     "metadata": {},
     "output_type": "execute_result"
    }
   ],
   "source": [
    "y=df.groupby('showed')['Diabetes'].value_counts()\n",
    "d=(y[1][True]/df['Diabetes'].value_counts()[1])*100\n",
    "d"
   ]
  },
  {
   "cell_type": "markdown",
   "id": "fccb24ab",
   "metadata": {},
   "source": [
    "82.2% of the people who had Diabetes attended "
   ]
  },
  {
   "cell_type": "code",
   "execution_count": 39,
   "id": "ca608acc",
   "metadata": {},
   "outputs": [
    {
     "data": {
      "text/plain": [
       "78.4850640113798"
      ]
     },
     "execution_count": 39,
     "metadata": {},
     "output_type": "execute_result"
    }
   ],
   "source": [
    "z=df.groupby('showed')['Alcoholism'].value_counts()\n",
    "a=(z[1][True]/df['Alcoholism'].value_counts()[1])*100\n",
    "a"
   ]
  },
  {
   "cell_type": "markdown",
   "id": "3175381f",
   "metadata": {},
   "source": [
    "78.4% of the people who had Alcoholism attended "
   ]
  },
  {
   "cell_type": "code",
   "execution_count": 40,
   "id": "e9d89c62",
   "metadata": {},
   "outputs": [
    {
     "data": {
      "text/plain": [
       "Text(0.5, 0, 'type of disease')"
      ]
     },
     "execution_count": 40,
     "metadata": {},
     "output_type": "execute_result"
    },
    {
     "data": {
      "image/png": "[encoded data removed]",
      "text/plain": [
       "<Figure size 640x480 with 1 Axes>"
      ]
     },
     "metadata": {},
     "output_type": "display_data"
    }
   ],
   "source": [
    "subset=[h,d,a]\n",
    "X_axis = np.arange(len(subset))\n",
    "lable=['Hipertension','Diabetes','Alcoholism']\n",
    "plt.bar(X_axis,subset,.2)\n",
    "plt.xticks(X_axis,lable)\n",
    "plt.ylabel('Attendance rate')\n",
    "plt.title('The percentage of attendance for all patients with a percentage of the total number')\n",
    "plt.xlabel('type of disease')"
   ]
  },
  {
   "cell_type": "markdown",
   "id": "2630aa41",
   "metadata": {},
   "source": [
    "Question 2 (Is there a relationship between attending the appointment and waiting days?)"
   ]
  },
  {
   "cell_type": "code",
   "execution_count": 41,
   "id": "1b814f0a",
   "metadata": {},
   "outputs": [
    {
     "data": {
      "text/plain": [
       "<matplotlib.legend.Legend at 0x21ed5d31b90>"
      ]
     },
     "execution_count": 41,
     "metadata": {},
     "output_type": "execute_result"
    },
    {
     "data": {
      "image/png": "[encoded data removed]",
      "text/plain": [
       "<Figure size 640x480 with 1 Axes>"
      ]
     },
     "metadata": {},
     "output_type": "display_data"
    }
   ],
   "source": [
    "sns.histplot(data=df,x='dayswaited',hue='showed')\n",
    "plt.xlim([0,35])\n",
    "plt.title('Explore the relationship between waiting days and appointment')\n",
    "plt.legend(['show','no_show'])"
   ]
  },
  {
   "cell_type": "code",
   "execution_count": 42,
   "id": "930da70f",
   "metadata": {},
   "outputs": [
    {
     "data": {
      "text/plain": [
       "67645"
      ]
     },
     "execution_count": 42,
     "metadata": {},
     "output_type": "execute_result"
    }
   ],
   "source": [
    "df.loc[df['dayswaited']<20].groupby('showed')['dayswaited'].value_counts()[1].sum()"
   ]
  },
  {
   "cell_type": "code",
   "execution_count": 43,
   "id": "ef088ff9",
   "metadata": {},
   "outputs": [
    {
     "data": {
      "text/plain": [
       "13008"
      ]
     },
     "execution_count": 43,
     "metadata": {},
     "output_type": "execute_result"
    }
   ],
   "source": [
    "df.loc[df['dayswaited']>20].groupby('showed')['dayswaited'].value_counts()[1].sum()"
   ]
  },
  {
   "cell_type": "markdown",
   "id": "eb545cb8",
   "metadata": {},
   "source": [
    "It seems that the fewer waiting days, the higher the attendance rate"
   ]
  },
  {
   "cell_type": "markdown",
   "id": "1526f265",
   "metadata": {},
   "source": [
    "Question 3 (Is there a relationship between attending the appointment and Gender?)"
   ]
  },
  {
   "cell_type": "code",
   "execution_count": 44,
   "id": "149fa98a",
   "metadata": {},
   "outputs": [
    {
     "data": {
      "text/plain": [
       "<Axes: ylabel='Gender'>"
      ]
     },
     "execution_count": 44,
     "metadata": {},
     "output_type": "execute_result"
    },
    {
     "data": {
      "image/png": "[encoded data removed]",
      "text/plain": [
       "<Figure size 300x300 with 1 Axes>"
      ]
     },
     "metadata": {},
     "output_type": "display_data"
    }
   ],
   "source": [
    "df.Gender.value_counts().plot(kind='pie',autopct='%1.1f%%',colors=sns.color_palette('Blues_d'),figsize=(3,3))\n",
    "#this is show that women take care of herself more than men or the most appointment is f"
   ]
  },
  {
   "cell_type": "code",
   "execution_count": 45,
   "id": "3b9b5b82",
   "metadata": {},
   "outputs": [
    {
     "data": {
      "text/plain": [
       "<matplotlib.legend.Legend at 0x21ed5bbca10>"
      ]
     },
     "execution_count": 45,
     "metadata": {},
     "output_type": "execute_result"
    },
    {
     "data": {
      "image/png": "[encoded data removed]",
      "text/plain": [
       "<Figure size 640x480 with 1 Axes>"
      ]
     },
     "metadata": {},
     "output_type": "display_data"
    }
   ],
   "source": [
    "sns.countplot(data=df,x='Gender',hue='showed')\n",
    "plt.title('relation between appointment and Gender')\n",
    "plt.legend(['no_show','show'])"
   ]
  },
  {
   "cell_type": "code",
   "execution_count": 46,
   "id": "b88bee65",
   "metadata": {},
   "outputs": [
    {
     "data": {
      "text/plain": [
       "showed  Gender\n",
       "0       F         13452\n",
       "        M          6968\n",
       "1       F         53167\n",
       "        M         28216\n",
       "Name: Gender, dtype: int64"
      ]
     },
     "execution_count": 46,
     "metadata": {},
     "output_type": "execute_result"
    }
   ],
   "source": [
    "df.groupby('showed')['Gender'].value_counts()"
   ]
  },
  {
   "cell_type": "code",
   "execution_count": 47,
   "id": "e3e1a801",
   "metadata": {},
   "outputs": [
    {
     "data": {
      "text/plain": [
       "79.8075624071211"
      ]
     },
     "execution_count": 47,
     "metadata": {},
     "output_type": "execute_result"
    }
   ],
   "source": [
    "f_=df.groupby('showed')['Gender'].value_counts()[1]['F']\n",
    "f_show=f_/df.Gender.value_counts()['F']*100\n",
    "f_show"
   ]
  },
  {
   "cell_type": "code",
   "execution_count": 48,
   "id": "d84aad99",
   "metadata": {},
   "outputs": [
    {
     "data": {
      "text/plain": [
       "80.19554342883129"
      ]
     },
     "execution_count": 48,
     "metadata": {},
     "output_type": "execute_result"
    }
   ],
   "source": [
    "m_=df.groupby('showed')['Gender'].value_counts()[1]['M']\n",
    "m_show=m_/df.Gender.value_counts()['M']*100\n",
    "m_show"
   ]
  },
  {
   "cell_type": "markdown",
   "id": "9015fce4",
   "metadata": {},
   "source": [
    "The percentage of attendance at the appointment is similar"
   ]
  },
  {
   "cell_type": "markdown",
   "id": "47ffaabf",
   "metadata": {},
   "source": [
    "Question 4 (Is there a relationship between attending the appointment and Age ?)"
   ]
  },
  {
   "cell_type": "code",
   "execution_count": 49,
   "id": "c656d331",
   "metadata": {},
   "outputs": [
    {
     "data": {
      "text/plain": [
       "(0.0, 100.0)"
      ]
     },
     "execution_count": 49,
     "metadata": {},
     "output_type": "execute_result"
    },
    {
     "data": {
      "image/png": "[encoded data removed]",
      "text/plain": [
       "<Figure size 640x480 with 1 Axes>"
      ]
     },
     "metadata": {},
     "output_type": "display_data"
    }
   ],
   "source": [
    "sns.histplot(data=df,x='Age',kde=True,hue='showed')\n",
    "plt.xlim([0,100])"
   ]
  },
  {
   "cell_type": "code",
   "execution_count": 50,
   "id": "0f3f29a0",
   "metadata": {},
   "outputs": [
    {
     "data": {
      "text/html": [
       "<div>\n",
       "<style scoped>\n",
       "    .dataframe tbody tr th:only-of-type {\n",
       "        vertical-align: middle;\n",
       "    }\n",
       "\n",
       "    .dataframe tbody tr th {\n",
       "        vertical-align: top;\n",
       "    }\n",
       "\n",
       "    .dataframe thead th {\n",
       "        text-align: right;\n",
       "    }\n",
       "</style>\n",
       "<table border=\"1\" class=\"dataframe\">\n",
       "  <thead>\n",
       "    <tr style=\"text-align: right;\">\n",
       "      <th></th>\n",
       "      <th>Gender</th>\n",
       "      <th>Age</th>\n",
       "      <th>Neighbourhood</th>\n",
       "      <th>Scholarship</th>\n",
       "      <th>Hipertension</th>\n",
       "      <th>Diabetes</th>\n",
       "      <th>Alcoholism</th>\n",
       "      <th>Handcap</th>\n",
       "      <th>SMS_received</th>\n",
       "      <th>showed</th>\n",
       "      <th>dayswaited</th>\n",
       "      <th>Age_cust</th>\n",
       "    </tr>\n",
       "  </thead>\n",
       "  <tbody>\n",
       "    <tr>\n",
       "      <th>0</th>\n",
       "      <td>F</td>\n",
       "      <td>62</td>\n",
       "      <td>JARDIM DA PENHA</td>\n",
       "      <td>False</td>\n",
       "      <td>True</td>\n",
       "      <td>False</td>\n",
       "      <td>False</td>\n",
       "      <td>False</td>\n",
       "      <td>False</td>\n",
       "      <td>1</td>\n",
       "      <td>0</td>\n",
       "      <td>Seniors</td>\n",
       "    </tr>\n",
       "    <tr>\n",
       "      <th>1</th>\n",
       "      <td>M</td>\n",
       "      <td>56</td>\n",
       "      <td>JARDIM DA PENHA</td>\n",
       "      <td>False</td>\n",
       "      <td>False</td>\n",
       "      <td>False</td>\n",
       "      <td>False</td>\n",
       "      <td>False</td>\n",
       "      <td>False</td>\n",
       "      <td>1</td>\n",
       "      <td>0</td>\n",
       "      <td>Seniors</td>\n",
       "    </tr>\n",
       "    <tr>\n",
       "      <th>2</th>\n",
       "      <td>F</td>\n",
       "      <td>62</td>\n",
       "      <td>MATA DA PRAIA</td>\n",
       "      <td>False</td>\n",
       "      <td>False</td>\n",
       "      <td>False</td>\n",
       "      <td>False</td>\n",
       "      <td>False</td>\n",
       "      <td>False</td>\n",
       "      <td>1</td>\n",
       "      <td>0</td>\n",
       "      <td>Seniors</td>\n",
       "    </tr>\n",
       "    <tr>\n",
       "      <th>3</th>\n",
       "      <td>F</td>\n",
       "      <td>8</td>\n",
       "      <td>PONTAL DE CAMBURI</td>\n",
       "      <td>False</td>\n",
       "      <td>False</td>\n",
       "      <td>False</td>\n",
       "      <td>False</td>\n",
       "      <td>False</td>\n",
       "      <td>False</td>\n",
       "      <td>1</td>\n",
       "      <td>0</td>\n",
       "      <td>Childs</td>\n",
       "    </tr>\n",
       "    <tr>\n",
       "      <th>4</th>\n",
       "      <td>F</td>\n",
       "      <td>56</td>\n",
       "      <td>JARDIM DA PENHA</td>\n",
       "      <td>False</td>\n",
       "      <td>True</td>\n",
       "      <td>True</td>\n",
       "      <td>False</td>\n",
       "      <td>False</td>\n",
       "      <td>False</td>\n",
       "      <td>1</td>\n",
       "      <td>0</td>\n",
       "      <td>Seniors</td>\n",
       "    </tr>\n",
       "  </tbody>\n",
       "</table>\n",
       "</div>"
      ],
      "text/plain": [
       "  Gender  Age      Neighbourhood  Scholarship  Hipertension  Diabetes  \\\n",
       "0      F   62    JARDIM DA PENHA        False          True     False   \n",
       "1      M   56    JARDIM DA PENHA        False         False     False   \n",
       "2      F   62      MATA DA PRAIA        False         False     False   \n",
       "3      F    8  PONTAL DE CAMBURI        False         False     False   \n",
       "4      F   56    JARDIM DA PENHA        False          True      True   \n",
       "\n",
       "   Alcoholism  Handcap  SMS_received  showed  dayswaited Age_cust  \n",
       "0       False    False         False       1           0  Seniors  \n",
       "1       False    False         False       1           0  Seniors  \n",
       "2       False    False         False       1           0  Seniors  \n",
       "3       False    False         False       1           0   Childs  \n",
       "4       False    False         False       1           0  Seniors  "
      ]
     },
     "execution_count": 50,
     "metadata": {},
     "output_type": "execute_result"
    }
   ],
   "source": [
    "lable=['Childs','Adults','Seniors']\n",
    "bins=[0,15,40,100]\n",
    "df['Age_cust']=pd.cut(df['Age'],bins=bins,labels=['Childs','Adults','Seniors'])\n",
    "df.head()"
   ]
  },
  {
   "cell_type": "code",
   "execution_count": 51,
   "id": "d2cc327d",
   "metadata": {},
   "outputs": [
    {
     "data": {
      "text/plain": [
       "<matplotlib.legend.Legend at 0x21ed4f646d0>"
      ]
     },
     "execution_count": 51,
     "metadata": {},
     "output_type": "execute_result"
    },
    {
     "data": {
      "image/png": "[encoded data removed]",
      "text/plain": [
       "<Figure size 640x480 with 1 Axes>"
      ]
     },
     "metadata": {},
     "output_type": "display_data"
    }
   ],
   "source": [
    "sns.countplot(x='Age_cust',data=df,hue='showed')\n",
    "plt.title('The relationship between age group and appointment attendance')\n",
    "plt.legend(['no_show','show_up'])"
   ]
  },
  {
   "cell_type": "markdown",
   "id": "fa119055",
   "metadata": {},
   "source": [
    "The seniors attend appointment higher then other people"
   ]
  },
  {
   "cell_type": "markdown",
   "id": "671f40c7",
   "metadata": {},
   "source": [
    "## Conclusions\n",
    "\n",
    "I have identified four factors to investigate their impact on attendance:\n",
    "\n",
    "### 1. The type of disease:\n",
    "It seems that the effect of the type of disease on the attendance rate is present, but it is small, as the ratio between the highest attendance and the lowest attendance does not exceed 4 percent.\n",
    "\n",
    "lowest : Alcoholism : 78.4%\n",
    "highest : Hipertension : 82.9%\n",
    "\n",
    "### 2. The number of waiting days:\n",
    "\n",
    "It seems to be the most influential factor in the attendance rate, as the attendance rate when there are no waiting days is much higher than the attendance rate when the number of days increases.\n",
    "\n",
    "### 3. Gender:\n",
    "\n",
    "There is no significant effect of this work on the urban attendance rate, as the female attendance rate was 0.3 percent less than the male attendance rate, which is a difference that has no effect.\n",
    "\n",
    "### 4. Age :\n",
    "\n",
    "This is considered the second most important influencing factor, as the data showed that the attendance rate of the elderly is much higher than that of adults and children."
   ]
  }
 ],
 "metadata": {
  "kernelspec": {
   "display_name": "Python 3 (ipykernel)",
   "language": "python",
   "name": "python3"
  },
  "language_info": {
   "codemirror_mode": {
    "name": "ipython",
    "version": 3
   },
   "file_extension": ".py",
   "mimetype": "text/x-python",
   "name": "python",
   "nbconvert_exporter": "python",
   "pygments_lexer": "ipython3",
   "version": "3.11.0"
  }
 },
 "nbformat": 4,
 "nbformat_minor": 5
}
