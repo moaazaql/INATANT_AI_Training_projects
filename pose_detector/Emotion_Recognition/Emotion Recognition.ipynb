{
 "cells": [
  {
   "cell_type": "markdown",
   "id": "edc39a2d-9480-4d64-a1a5-cfdbcbaa65b7",
   "metadata": {},
   "source": [
    "# Face Emotion Recognition From Image \n"
   ]
  },
  {
   "cell_type": "code",
   "execution_count": null,
   "id": "484469bd",
   "metadata": {},
   "outputs": [],
   "source": [
    "#import the necessary packages\n",
    "import matplotlib.pyplot as plt\n",
    "import cv2\n",
    "import sys\n",
    "import tkinter as tk \n",
    "from tkinter import filedialog\n",
    "from tkinter import*"
   ]
  },
  {
   "cell_type": "markdown",
   "id": "6cf320b2-3e7a-47c5-84d5-64cefdafe964",
   "metadata": {},
   "source": [
    "## This project depends on DeepFace for Emotion Recognition\n",
    "\n",
    "Note : this code was written using : python 3.11 , tensorflow 2.13.0 , keras 2.13.1 ."
   ]
  },
  {
   "cell_type": "code",
   "execution_count": null,
   "id": "a6a3317c",
   "metadata": {},
   "outputs": [],
   "source": [
    "from deepface import DeepFace"
   ]
  },
  {
   "cell_type": "code",
   "execution_count": null,
   "id": "158c42d0",
   "metadata": {},
   "outputs": [],
   "source": [
    "# this cell is to open a window in the explorer to chose the image.\n",
    "root = tk.Tk() \n",
    "root.withdraw() \n",
    "root.call('wm', 'attributes', '.', '-topmost', True)\n",
    "path_tuple = filedialog.askopenfilename(multiple=True) # It gives the path as a tuple\n",
    "%gui tk\n",
    "print(path_tuple)"
   ]
  },
  {
   "cell_type": "code",
   "execution_count": null,
   "id": "1010a5dc",
   "metadata": {},
   "outputs": [],
   "source": [
    "# Now will convert the path data type from tuple to string \n",
    "def convertTuple(tup):\n",
    "    str = ''.join(tup)\n",
    "    return str"
   ]
  },
  {
   "cell_type": "code",
   "execution_count": null,
   "id": "a29d5e44-28c9-4e1e-a933-6a96de800ffd",
   "metadata": {},
   "outputs": [],
   "source": [
    "path = convertTuple(path_tuple)"
   ]
  },
  {
   "cell_type": "code",
   "execution_count": null,
   "id": "6db027a4",
   "metadata": {},
   "outputs": [],
   "source": [
    "img = cv2.imread(path)"
   ]
  },
  {
   "cell_type": "code",
   "execution_count": null,
   "id": "4dad538a",
   "metadata": {},
   "outputs": [],
   "source": [
    "plt.imshow(cv2.cvtColor(img, cv2.COLOR_BGR2RGB))"
   ]
  },
  {
   "cell_type": "code",
   "execution_count": null,
   "id": "c523354b",
   "metadata": {},
   "outputs": [],
   "source": [
    "predictions = DeepFace.analyze(img)"
   ]
  },
  {
   "cell_type": "code",
   "execution_count": null,
   "id": "89bef5bb",
   "metadata": {},
   "outputs": [],
   "source": [
    "predictions"
   ]
  },
  {
   "cell_type": "code",
   "execution_count": null,
   "id": "f85392ff",
   "metadata": {},
   "outputs": [],
   "source": [
    "emotion = predictions[0]['dominant_emotion']\n",
    "age = predictions[0]['age']\n",
    "gender = predictions[0]['dominant_gender']\n",
    "race = predictions[0]['dominant_race']\n",
    "print( \"emotion =\", emotion, \"\\n\", \"age =\" ,age ,\"\\n\",\"gender =\", gender,\"\\n\" ,\"race =\" , race )"
   ]
  },
  {
   "cell_type": "markdown",
   "id": "169f672e-f28b-4eab-8415-4750da88fad7",
   "metadata": {},
   "source": [
    "## Using haar algorism to detect the face then put a square around it "
   ]
  },
  {
   "cell_type": "code",
   "execution_count": null,
   "id": "30ca7c27",
   "metadata": {},
   "outputs": [],
   "source": [
    "# Using haar algorism to detect the face. \n",
    "faceCascade = cv2.CascadeClassifier(cv2.data.haarcascades + 'haarcascade_frontalface_default.xml')"
   ]
  },
  {
   "cell_type": "code",
   "execution_count": null,
   "id": "d7182af5-1648-42a0-b3d8-57608cbc9add",
   "metadata": {},
   "outputs": [],
   "source": [
    "gray = cv2.cvtColor(img, cv2.COLOR_BGR2GRAY)\n",
    "faces = faceCascade.detectMultiScale(gray,1.1,4)\n",
    "for(x, y , w , h) in faces:\n",
    "    cv2.rectangle(img, (x, y) , (x+w , y+h) , (0 , 255 , 0), 2)"
   ]
  },
  {
   "cell_type": "code",
   "execution_count": null,
   "id": "437fff92-cb1f-409a-b1b1-ad4f528781b6",
   "metadata": {},
   "outputs": [],
   "source": [
    "font = cv2.FONT_HERSHEY_SIMPLEX\n",
    "\n",
    "cv2.putText(img, \n",
    "            predictions[0]['dominant_emotion'],\n",
    "            (50,50),\n",
    "            font, 2 ,\n",
    "            (0,0,255) , 2 ,\n",
    "            cv2.LINE_4)\n",
    "plt.imshow(cv2.cvtColor(img, cv2.COLOR_BGR2RGB))"
   ]
  }
 ],
 "metadata": {
  "kernelspec": {
   "display_name": "Python 3 (ipykernel)",
   "language": "python",
   "name": "python3"
  },
  "language_info": {
   "codemirror_mode": {
    "name": "ipython",
    "version": 3
   },
   "file_extension": ".py",
   "mimetype": "text/x-python",
   "name": "python",
   "nbconvert_exporter": "python",
   "pygments_lexer": "ipython3",
   "version": "3.11.0"
  }
 },
 "nbformat": 4,
 "nbformat_minor": 5
}
