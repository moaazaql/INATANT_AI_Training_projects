{
 "cells": [
  {
   "cell_type": "code",
   "execution_count": 47,
   "id": "7c76cae6-b640-418b-9566-b0d69cd7c34d",
   "metadata": {},
   "outputs": [],
   "source": [
    "import pandas as pd\n",
    "import matplotlib.pyplot as plt\n",
    "import numpy as np\n",
    "import datetime\n",
    "import matplotlib.dates as mdates"
   ]
  },
  {
   "cell_type": "code",
   "execution_count": 2,
   "id": "156a9955-cdf5-44a9-a6ea-82ffeaa2a130",
   "metadata": {},
   "outputs": [],
   "source": [
    "df = pd.read_csv(\"EGP_Egyptian-Pound.csv\")"
   ]
  },
  {
   "cell_type": "code",
   "execution_count": 3,
   "id": "ce0b162e-ca79-42f5-8f61-c853026dea91",
   "metadata": {},
   "outputs": [
    {
     "data": {
      "text/html": [
       "<div>\n",
       "<style scoped>\n",
       "    .dataframe tbody tr th:only-of-type {\n",
       "        vertical-align: middle;\n",
       "    }\n",
       "\n",
       "    .dataframe tbody tr th {\n",
       "        vertical-align: top;\n",
       "    }\n",
       "\n",
       "    .dataframe thead th {\n",
       "        text-align: right;\n",
       "    }\n",
       "</style>\n",
       "<table border=\"1\" class=\"dataframe\">\n",
       "  <thead>\n",
       "    <tr style=\"text-align: right;\">\n",
       "      <th></th>\n",
       "      <th>Date</th>\n",
       "      <th>Open</th>\n",
       "      <th>High</th>\n",
       "      <th>Low</th>\n",
       "      <th>Close</th>\n",
       "      <th>Volume</th>\n",
       "    </tr>\n",
       "  </thead>\n",
       "  <tbody>\n",
       "    <tr>\n",
       "      <th>0</th>\n",
       "      <td>2001-06-01</td>\n",
       "      <td>3.88751</td>\n",
       "      <td>3.9075</td>\n",
       "      <td>3.8675</td>\n",
       "      <td>3.8875</td>\n",
       "      <td>0</td>\n",
       "    </tr>\n",
       "    <tr>\n",
       "      <th>1</th>\n",
       "      <td>2001-06-05</td>\n",
       "      <td>3.86954</td>\n",
       "      <td>3.9043</td>\n",
       "      <td>3.8500</td>\n",
       "      <td>3.8743</td>\n",
       "      <td>0</td>\n",
       "    </tr>\n",
       "    <tr>\n",
       "      <th>2</th>\n",
       "      <td>2001-06-06</td>\n",
       "      <td>3.87208</td>\n",
       "      <td>3.9068</td>\n",
       "      <td>3.8400</td>\n",
       "      <td>3.8743</td>\n",
       "      <td>0</td>\n",
       "    </tr>\n",
       "    <tr>\n",
       "      <th>3</th>\n",
       "      <td>2001-06-07</td>\n",
       "      <td>3.86780</td>\n",
       "      <td>3.9068</td>\n",
       "      <td>3.8450</td>\n",
       "      <td>3.8743</td>\n",
       "      <td>0</td>\n",
       "    </tr>\n",
       "    <tr>\n",
       "      <th>4</th>\n",
       "      <td>2001-06-08</td>\n",
       "      <td>3.86954</td>\n",
       "      <td>3.8943</td>\n",
       "      <td>3.8500</td>\n",
       "      <td>3.8743</td>\n",
       "      <td>0</td>\n",
       "    </tr>\n",
       "  </tbody>\n",
       "</table>\n",
       "</div>"
      ],
      "text/plain": [
       "         Date     Open    High     Low   Close  Volume\n",
       "0  2001-06-01  3.88751  3.9075  3.8675  3.8875       0\n",
       "1  2001-06-05  3.86954  3.9043  3.8500  3.8743       0\n",
       "2  2001-06-06  3.87208  3.9068  3.8400  3.8743       0\n",
       "3  2001-06-07  3.86780  3.9068  3.8450  3.8743       0\n",
       "4  2001-06-08  3.86954  3.8943  3.8500  3.8743       0"
      ]
     },
     "execution_count": 3,
     "metadata": {},
     "output_type": "execute_result"
    }
   ],
   "source": [
    "df.head()\n"
   ]
  },
  {
   "cell_type": "code",
   "execution_count": null,
   "id": "af1156a9-7568-41d4-b025-2eb62e51140b",
   "metadata": {},
   "outputs": [],
   "source": [
    "num_iters = 15\n",
    "for i in range(num_iters):\n",
    "    plot_df = pd.read_csv('EGP_Egyptian-Pound.csv',header=0, \n",
    "                 skiprows = range(i+1 , i+100), nrows=10)"
   ]
  },
  {
   "cell_type": "code",
   "execution_count": 5,
   "id": "47ce5872-5934-424d-9499-06a515f514fa",
   "metadata": {},
   "outputs": [],
   "source": [
    "df[\"Date\"] = pd.to_datetime(df[\"Date\"])\n"
   ]
  },
  {
   "cell_type": "code",
   "execution_count": 19,
   "id": "8b2eaa39-4f06-4099-b4e4-383ea8497a69",
   "metadata": {},
   "outputs": [],
   "source": [
    "plot_df = df.filter(df['Date'].dt.to_period('M').drop_duplicates().index, axis = 0)"
   ]
  },
  {
   "cell_type": "code",
   "execution_count": 30,
   "id": "c182a74b-3876-4916-9aa4-f08956b8a934",
   "metadata": {},
   "outputs": [],
   "source": [
    "xValues = df.filter(df['Date'].dt.to_period('Y').drop_duplicates().index, axis = 0)"
   ]
  },
  {
   "cell_type": "code",
   "execution_count": 51,
   "id": "0306a4fb-5244-43e8-99bb-635a2329be95",
   "metadata": {},
   "outputs": [],
   "source": [
    "formatter = mdates.DateFormatter(\"%Y\") ### formatter of the date\n",
    "locator = mdates.YearLocator() ### where to put the labels"
   ]
  },
  {
   "cell_type": "code",
   "execution_count": 60,
   "id": "bb2e7693-d211-4719-a0e0-83cb74d85bdc",
   "metadata": {},
   "outputs": [
    {
     "data": {
      "text/plain": [
       "Text(0, 0.5, ' Value for 1 USD ')"
      ]
     },
     "execution_count": 60,
     "metadata": {},
     "output_type": "execute_result"
    },
    {
     "data": {
      "image/png": "[encoded data removed]",
      "text/plain": [
       "<Figure size 1500x200 with 1 Axes>"
      ]
     },
     "metadata": {},
     "output_type": "display_data"
    }
   ],
   "source": [
    "fig, ax = plt.subplots(figsize=(15,2))\n",
    "ax.plot(df[\"Date\"], df[\"Close\"] )\n",
    "plt.grid(color = 'green', linestyle = '--', linewidth = 0.5)\n",
    "#start, end = ax.get_xlim()\n",
    "#ax.xaxis.set_ticks(np.arange(start, end, 365 ))\n",
    "ax.xaxis.set_major_formatter(formatter) ## calling the formatter for the x-axis\n",
    "ax.xaxis.set_major_locator(locator) ## calling the locator for the x-axis\n",
    "ax.set_xlabel(\" Years \" , color = \"RED\")\n",
    "ax.set_ylabel(\" Value for 1 USD \", color = \"RED\")\n",
    "#plt.xticks(list(plot_df['Date'].unique()))\n",
    "#ax.set_xticks(xValues, minor=True)"
   ]
  },
  {
   "cell_type": "code",
   "execution_count": 29,
   "id": "289fcb0e-df3f-4d42-89b4-290c2ea0c1c2",
   "metadata": {},
   "outputs": [
    {
     "data": {
      "text/html": [
       "<div>\n",
       "<style scoped>\n",
       "    .dataframe tbody tr th:only-of-type {\n",
       "        vertical-align: middle;\n",
       "    }\n",
       "\n",
       "    .dataframe tbody tr th {\n",
       "        vertical-align: top;\n",
       "    }\n",
       "\n",
       "    .dataframe thead th {\n",
       "        text-align: right;\n",
       "    }\n",
       "</style>\n",
       "<table border=\"1\" class=\"dataframe\">\n",
       "  <thead>\n",
       "    <tr style=\"text-align: right;\">\n",
       "      <th></th>\n",
       "      <th>Date</th>\n",
       "      <th>Open</th>\n",
       "      <th>High</th>\n",
       "      <th>Low</th>\n",
       "      <th>Close</th>\n",
       "      <th>Volume</th>\n",
       "    </tr>\n",
       "  </thead>\n",
       "  <tbody>\n",
       "    <tr>\n",
       "      <th>0</th>\n",
       "      <td>2001-06-01</td>\n",
       "      <td>3.88751</td>\n",
       "      <td>3.9075</td>\n",
       "      <td>3.8675</td>\n",
       "      <td>3.8875</td>\n",
       "      <td>0</td>\n",
       "    </tr>\n",
       "    <tr>\n",
       "      <th>20</th>\n",
       "      <td>2001-07-02</td>\n",
       "      <td>3.87974</td>\n",
       "      <td>3.9180</td>\n",
       "      <td>3.8543</td>\n",
       "      <td>3.8743</td>\n",
       "      <td>0</td>\n",
       "    </tr>\n",
       "    <tr>\n",
       "      <th>34</th>\n",
       "      <td>2001-08-01</td>\n",
       "      <td>3.94752</td>\n",
       "      <td>4.0285</td>\n",
       "      <td>3.9238</td>\n",
       "      <td>3.9568</td>\n",
       "      <td>0</td>\n",
       "    </tr>\n",
       "    <tr>\n",
       "      <th>52</th>\n",
       "      <td>2001-09-03</td>\n",
       "      <td>4.26350</td>\n",
       "      <td>4.2940</td>\n",
       "      <td>4.2200</td>\n",
       "      <td>4.2588</td>\n",
       "      <td>0</td>\n",
       "    </tr>\n",
       "    <tr>\n",
       "      <th>72</th>\n",
       "      <td>2001-10-02</td>\n",
       "      <td>4.26190</td>\n",
       "      <td>4.2927</td>\n",
       "      <td>4.2300</td>\n",
       "      <td>4.2560</td>\n",
       "      <td>0</td>\n",
       "    </tr>\n",
       "  </tbody>\n",
       "</table>\n",
       "</div>"
      ],
      "text/plain": [
       "         Date     Open    High     Low   Close  Volume\n",
       "0  2001-06-01  3.88751  3.9075  3.8675  3.8875       0\n",
       "20 2001-07-02  3.87974  3.9180  3.8543  3.8743       0\n",
       "34 2001-08-01  3.94752  4.0285  3.9238  3.9568       0\n",
       "52 2001-09-03  4.26350  4.2940  4.2200  4.2588       0\n",
       "72 2001-10-02  4.26190  4.2927  4.2300  4.2560       0"
      ]
     },
     "execution_count": 29,
     "metadata": {},
     "output_type": "execute_result"
    }
   ],
   "source": [
    "plot_df.head()"
   ]
  },
  {
   "cell_type": "code",
   "execution_count": null,
   "id": "036a894f-25cf-48ea-a128-a6b6ff69cd9f",
   "metadata": {},
   "outputs": [],
   "source": []
  }
 ],
 "metadata": {
  "kernelspec": {
   "display_name": "Python 3 (ipykernel)",
   "language": "python",
   "name": "python3"
  },
  "language_info": {
   "codemirror_mode": {
    "name": "ipython",
    "version": 3
   },
   "file_extension": ".py",
   "mimetype": "text/x-python",
   "name": "python",
   "nbconvert_exporter": "python",
   "pygments_lexer": "ipython3",
   "version": "3.11.0"
  }
 },
 "nbformat": 4,
 "nbformat_minor": 5
}
